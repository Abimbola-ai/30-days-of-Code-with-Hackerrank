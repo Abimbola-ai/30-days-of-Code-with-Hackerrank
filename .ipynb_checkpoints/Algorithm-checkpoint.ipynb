{
 "cells": [
  {
   "cell_type": "code",
   "execution_count": null,
   "metadata": {},
   "outputs": [],
   "source": [
    "#!/bin/python3\n",
    "import os\n",
    "import sys\n",
    "\n",
    "from typing import Dict, Optional, Tuple\n",
    "#import regex\n",
    "\n",
    "# Complete the max_result_expression function below.\n",
    "# You may add any imports you require from the standard library.\n",
    "# Feel free to define your own helper functions, classes etc as you see fit.\n",
    "\n",
    "\n",
    "def max_result_expression(expression: str, variables: Dict[str, Tuple[int, int]]) -> Optional[int]:\n",
    "    \"\"\"\n",
    "    Evaluates the prefix expression and calculates the maximum result for the given variable ranges.\n",
    "\n",
    "    Arguments:\n",
    "        expression: the prefix expression to evaluate.\n",
    "        variables: Keys of this dictionary may appear as variables in the expression.\n",
    "            Values are tuples of `(min, max)` that specify the range of values of the variable.\n",
    "            The upper bound `max` is NOT included in the range, so (2, 5) expands to [2, 3, 4].\n",
    "          \n",
    "    Returns:\n",
    "        int:  the maximum result of the expression for any combination of the supplied variables.\n",
    "        None: in the case there is no valid result for any combination of the supplied variables.\n",
    "    \"\"\"\n",
    "    e = \"\".join(expression.rstrip())\n",
    "    expr = e.split(\" \")\n",
    "    values_store = []\n",
    "    symbols = []\n",
    "    \n",
    "    for i in range(0, len(expr)):\n",
    "        if (expr[i].lstrip(\"-\").isdigit()):\n",
    "            values_store.append(expr[i])\n",
    "  \n",
    "            if (expr[i-1].lstrip(\"-\").isdigit()):\n",
    "                while(len(values_store) != 1):\n",
    "         \n",
    "                    val1 = values_store.pop()\n",
    "                    val2 = values_store.pop()\n",
    "                    val_calculated = 0\n",
    "                    symbol = symbols.pop()\n",
    "            \n",
    "                    if (symbol == \"+\"):\n",
    "                        val_calculated = val1 + val2\n",
    "                    # elif (symbol == \"-\"):\n",
    "                    #     val_calculated = val1 - val2\n",
    "                    elif (symbol == \"*\"):\n",
    "                        val_calculated = val1 * val2\n",
    "                    elif (symbol == \"/\"):\n",
    "                        val_calculated = val1 / val2\n",
    "                    values_store.append(val_calculated)\n",
    "            else:\n",
    "                symbols.append(expr[i])\n",
    "                \n",
    "    result = values_store.pop()\n",
    "    if (int(result) >=0):\n",
    "        print(result)\n",
    "    else:\n",
    "        print(\"None\")\n",
    "                \n",
    "        \n",
    "\n",
    "    # raise NotImplementedError(\"Implement me!\")\n",
    "\n",
    "if __name__ == '__main__':\n",
    "    f = open(os.environ['OUTPUT_PATH'], 'w')\n",
    "\n",
    "    exp = str(input())\n",
    "    variables = eval(input())\n",
    "    res = max_result_expression(exp, variables)\n",
    "\n",
    "    f.write(str(res) + \"\\n\")\n",
    "\n",
    "    f.close()\n"
   ]
  },
  {
   "cell_type": "markdown",
   "metadata": {},
   "source": [
    "### Itemgetter sort method"
   ]
  },
  {
   "cell_type": "code",
   "execution_count": 1,
   "metadata": {},
   "outputs": [],
   "source": [
    "from operator import itemgetter\n",
    "a = [(1,3), (1,4),(2,5),(-1,-2), (8,0)]"
   ]
  },
  {
   "cell_type": "code",
   "execution_count": 2,
   "metadata": {},
   "outputs": [
    {
     "data": {
      "text/plain": [
       "[(-1, -2), (1, 3), (1, 4), (2, 5), (8, 0)]"
      ]
     },
     "execution_count": 2,
     "metadata": {},
     "output_type": "execute_result"
    }
   ],
   "source": [
    "sorted(a)"
   ]
  },
  {
   "cell_type": "code",
   "execution_count": 3,
   "metadata": {},
   "outputs": [
    {
     "data": {
      "text/plain": [
       "[(-1, -2), (1, 3), (1, 4), (2, 5), (8, 0)]"
      ]
     },
     "execution_count": 3,
     "metadata": {},
     "output_type": "execute_result"
    }
   ],
   "source": [
    "sorted(a, key=itemgetter(0))"
   ]
  },
  {
   "cell_type": "code",
   "execution_count": 6,
   "metadata": {},
   "outputs": [
    {
     "data": {
      "text/plain": [
       "[(-1, -2), (8, 0), (1, 3), (1, 4), (2, 5)]"
      ]
     },
     "execution_count": 6,
     "metadata": {},
     "output_type": "execute_result"
    }
   ],
   "source": [
    "sorted(a, key=itemgetter(1), reverse=False)"
   ]
  },
  {
   "cell_type": "markdown",
   "metadata": {},
   "source": [
    "### Set types"
   ]
  },
  {
   "cell_type": "code",
   "execution_count": 7,
   "metadata": {},
   "outputs": [],
   "source": [
    "smallprimes = set()  # call an empty set"
   ]
  },
  {
   "cell_type": "code",
   "execution_count": 8,
   "metadata": {},
   "outputs": [],
   "source": [
    "smallprimes.add(2) # add one element at a time\n",
    "smallprimes.add(3)\n",
    "smallprimes.add(5)"
   ]
  },
  {
   "cell_type": "code",
   "execution_count": 9,
   "metadata": {},
   "outputs": [
    {
     "data": {
      "text/plain": [
       "{2, 3, 5}"
      ]
     },
     "execution_count": 9,
     "metadata": {},
     "output_type": "execute_result"
    }
   ],
   "source": [
    "smallprimes"
   ]
  },
  {
   "cell_type": "code",
   "execution_count": 11,
   "metadata": {},
   "outputs": [
    {
     "data": {
      "text/plain": [
       "{1, 2, 3, 5}"
      ]
     },
     "execution_count": 11,
     "metadata": {},
     "output_type": "execute_result"
    }
   ],
   "source": [
    "smallprimes.add(1) \n",
    "smallprimes"
   ]
  },
  {
   "cell_type": "code",
   "execution_count": 14,
   "metadata": {},
   "outputs": [
    {
     "ename": "KeyError",
     "evalue": "1",
     "output_type": "error",
     "traceback": [
      "\u001b[0;31m---------------------------------------------------------------------------\u001b[0m",
      "\u001b[0;31mKeyError\u001b[0m                                  Traceback (most recent call last)",
      "\u001b[0;32m<ipython-input-14-e6df6177bab4>\u001b[0m in \u001b[0;36m<module>\u001b[0;34m\u001b[0m\n\u001b[0;32m----> 1\u001b[0;31m \u001b[0msmallprimes\u001b[0m\u001b[0;34m.\u001b[0m\u001b[0mremove\u001b[0m\u001b[0;34m(\u001b[0m\u001b[0;36m1\u001b[0m\u001b[0;34m)\u001b[0m \u001b[0;31m# 1 is not a prime\u001b[0m\u001b[0;34m\u001b[0m\u001b[0;34m\u001b[0m\u001b[0m\n\u001b[0m",
      "\u001b[0;31mKeyError\u001b[0m: 1"
     ]
    }
   ],
   "source": [
    "smallprimes.remove(1) # 1 is not a prime\n",
    "smallprimes"
   ]
  },
  {
   "cell_type": "code",
   "execution_count": 15,
   "metadata": {},
   "outputs": [
    {
     "data": {
      "text/plain": [
       "True"
      ]
     },
     "execution_count": 15,
     "metadata": {},
     "output_type": "execute_result"
    }
   ],
   "source": [
    "#membership test\n",
    "3 in smallprimes"
   ]
  },
  {
   "cell_type": "code",
   "execution_count": 16,
   "metadata": {},
   "outputs": [
    {
     "data": {
      "text/plain": [
       "True"
      ]
     },
     "execution_count": 16,
     "metadata": {},
     "output_type": "execute_result"
    }
   ],
   "source": [
    "4 not in smallprimes"
   ]
  },
  {
   "cell_type": "code",
   "execution_count": 17,
   "metadata": {},
   "outputs": [
    {
     "data": {
      "text/plain": [
       "False"
      ]
     },
     "execution_count": 17,
     "metadata": {},
     "output_type": "execute_result"
    }
   ],
   "source": [
    "1 in smallprimes"
   ]
  },
  {
   "cell_type": "code",
   "execution_count": 19,
   "metadata": {},
   "outputs": [
    {
     "data": {
      "text/plain": [
       "{2, 3, 5}"
      ]
     },
     "execution_count": 19,
     "metadata": {},
     "output_type": "execute_result"
    }
   ],
   "source": [
    "smallprimes.add(3) # No change, duplication is not allowed\n",
    "smallprimes"
   ]
  },
  {
   "cell_type": "code",
   "execution_count": 20,
   "metadata": {},
   "outputs": [],
   "source": [
    "biggerprimes = set([5,7,11,13])"
   ]
  },
  {
   "cell_type": "code",
   "execution_count": 21,
   "metadata": {},
   "outputs": [
    {
     "data": {
      "text/plain": [
       "{5, 7, 11, 13}"
      ]
     },
     "execution_count": 21,
     "metadata": {},
     "output_type": "execute_result"
    }
   ],
   "source": [
    "biggerprimes"
   ]
  },
  {
   "cell_type": "code",
   "execution_count": 23,
   "metadata": {},
   "outputs": [
    {
     "data": {
      "text/plain": [
       "{2, 3, 5, 7, 11, 13}"
      ]
     },
     "execution_count": 23,
     "metadata": {},
     "output_type": "execute_result"
    }
   ],
   "source": [
    "smallprimes | biggerprimes #union"
   ]
  },
  {
   "cell_type": "code",
   "execution_count": 24,
   "metadata": {},
   "outputs": [
    {
     "data": {
      "text/plain": [
       "{5}"
      ]
     },
     "execution_count": 24,
     "metadata": {},
     "output_type": "execute_result"
    }
   ],
   "source": [
    "smallprimes & biggerprimes #intersection"
   ]
  },
  {
   "cell_type": "code",
   "execution_count": 25,
   "metadata": {},
   "outputs": [
    {
     "data": {
      "text/plain": [
       "{2, 3}"
      ]
     },
     "execution_count": 25,
     "metadata": {},
     "output_type": "execute_result"
    }
   ],
   "source": [
    "smallprimes - biggerprimes #difference"
   ]
  },
  {
   "cell_type": "code",
   "execution_count": 26,
   "metadata": {},
   "outputs": [],
   "source": [
    "small_primes = {2,3,5}"
   ]
  },
  {
   "cell_type": "code",
   "execution_count": 27,
   "metadata": {},
   "outputs": [],
   "source": [
    "## Frozen sets\n",
    "smallprimes = frozenset([1,3,5])"
   ]
  },
  {
   "cell_type": "code",
   "execution_count": 28,
   "metadata": {},
   "outputs": [
    {
     "ename": "AttributeError",
     "evalue": "'frozenset' object has no attribute 'add'",
     "output_type": "error",
     "traceback": [
      "\u001b[0;31m---------------------------------------------------------------------------\u001b[0m",
      "\u001b[0;31mAttributeError\u001b[0m                            Traceback (most recent call last)",
      "\u001b[0;32m<ipython-input-28-011a77af87d7>\u001b[0m in \u001b[0;36m<module>\u001b[0;34m\u001b[0m\n\u001b[0;32m----> 1\u001b[0;31m \u001b[0msmallprimes\u001b[0m\u001b[0;34m.\u001b[0m\u001b[0madd\u001b[0m\u001b[0;34m(\u001b[0m\u001b[0;36m1\u001b[0m\u001b[0;34m)\u001b[0m\u001b[0;34m\u001b[0m\u001b[0;34m\u001b[0m\u001b[0m\n\u001b[0m",
      "\u001b[0;31mAttributeError\u001b[0m: 'frozenset' object has no attribute 'add'"
     ]
    }
   ],
   "source": [
    "smallprimes.add(1) # frozen sets are immutable, it throws an error. It performs all other operation apart from adding and removing"
   ]
  },
  {
   "cell_type": "code",
   "execution_count": null,
   "metadata": {},
   "outputs": [],
   "source": []
  }
 ],
 "metadata": {
  "kernelspec": {
   "display_name": "Python 3",
   "language": "python",
   "name": "python3"
  },
  "language_info": {
   "codemirror_mode": {
    "name": "ipython",
    "version": 3
   },
   "file_extension": ".py",
   "mimetype": "text/x-python",
   "name": "python",
   "nbconvert_exporter": "python",
   "pygments_lexer": "ipython3",
   "version": "3.7.4"
  }
 },
 "nbformat": 4,
 "nbformat_minor": 2
}
