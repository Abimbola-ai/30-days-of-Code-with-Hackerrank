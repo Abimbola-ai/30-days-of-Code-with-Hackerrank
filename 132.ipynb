{
  "nbformat": 4,
  "nbformat_minor": 0,
  "metadata": {
    "kernelspec": {
      "display_name": "Python 3",
      "language": "python",
      "name": "python3"
    },
    "language_info": {
      "codemirror_mode": {
        "name": "ipython",
        "version": 3
      },
      "file_extension": ".py",
      "mimetype": "text/x-python",
      "name": "python",
      "nbconvert_exporter": "python",
      "pygments_lexer": "ipython3",
      "version": "3.8.5"
    },
    "colab": {
      "name": "132.ipynb",
      "provenance": []
    }
  },
  "cells": [
    {
      "cell_type": "markdown",
      "metadata": {
        "id": "RVQEpc5IvNSz"
      },
      "source": [
        "# Module 1: Data Science Fundamentals\n",
        "## Sprint 3: Intro to Modeling\n",
        "## Subproject 2: Correlation Analysis, Linear Regression"
      ]
    },
    {
      "cell_type": "markdown",
      "metadata": {
        "id": "ByXCPWpbvNTD"
      },
      "source": [
        "Welcome to the 2nd subproject of Sprint 3. In this subproject, for the first time we will actually use data to make predictions!"
      ]
    },
    {
      "cell_type": "markdown",
      "metadata": {
        "id": "pThnKAu1vNTE"
      },
      "source": [
        "## Learning outcomes\n",
        "\n",
        "- Quantify correlation between dataset features.\n",
        "- Predict features from other features with Linear Regression."
      ]
    },
    {
      "cell_type": "markdown",
      "metadata": {
        "id": "I-8wyn2wvNTF"
      },
      "source": [
        "## Correlation Analysis"
      ]
    },
    {
      "cell_type": "markdown",
      "metadata": {
        "id": "a_rGzl-1vNTG"
      },
      "source": [
        "Correlation analysis, at its core, allows to quantify how related features of your dataset are - if one features changes e.g. is incremented, how other one changes."
      ]
    },
    {
      "cell_type": "markdown",
      "metadata": {
        "id": "HWBCp0kKvNTG"
      },
      "source": [
        "Let's start by going through [this](https://realpython.com/numpy-scipy-pandas-correlation-python) tutorial. By the end of it, you should be able differentiate between Pearson's and Spearman's correlation coefficients, and how to calculate correlation between variables in Pandas."
      ]
    },
    {
      "cell_type": "code",
      "metadata": {
        "id": "a08km5lHLu-d",
        "outputId": "1f6cb817-327c-4025-a73b-cdeab29b98b0",
        "colab": {
          "base_uri": "https://localhost:8080/"
        }
      },
      "source": [
        "# numpy correlation coefficient calculation - Pearson's\n",
        "import numpy as np\n",
        "x = np.arange(10, 20)\n",
        "y = np.array([2, 1, 4, 5, 8, 12, 18, 25, 96, 48])\n",
        "\n",
        "r = np.corrcoef(x, y)\n",
        "r"
      ],
      "execution_count": 1,
      "outputs": [
        {
          "output_type": "execute_result",
          "data": {
            "text/plain": [
              "array([[1.        , 0.75864029],\n",
              "       [0.75864029, 1.        ]])"
            ]
          },
          "metadata": {
            "tags": []
          },
          "execution_count": 1
        }
      ]
    },
    {
      "cell_type": "code",
      "metadata": {
        "id": "xvUNVCV_Mz9L",
        "outputId": "48540464-fa86-4055-9392-a42c94053921",
        "colab": {
          "base_uri": "https://localhost:8080/"
        }
      },
      "source": [
        "# Scipy correlation coefficient calculation\n",
        "import numpy as np\n",
        "import scipy.stats\n",
        "print(f\"pearson's:\",scipy.stats.pearsonr(x, y))    # Pearson's r\n",
        "print(f\"spearman's:\",scipy.stats.spearmanr(x, y))   # Spearman's rho\n",
        "print(f\"kendall's:\",scipy.stats.kendalltau(x, y))  # Kendall's tau\n",
        "\n",
        "#  p-value in statistical methods when you’re testing a hypothesis"
      ],
      "execution_count": 4,
      "outputs": [
        {
          "output_type": "stream",
          "text": [
            "pearson's: (0.758640289091187, 0.010964341301680813)\n",
            "spearman's: SpearmanrResult(correlation=0.9757575757575757, pvalue=1.4675461874042197e-06)\n",
            "kendall's: KendalltauResult(correlation=0.911111111111111, pvalue=2.9761904761904762e-05)\n"
          ],
          "name": "stdout"
        }
      ]
    },
    {
      "cell_type": "code",
      "metadata": {
        "id": "XxJR_QHuN027",
        "outputId": "8239ef23-5532-4bc8-d874-295b5c05907b",
        "colab": {
          "base_uri": "https://localhost:8080/"
        }
      },
      "source": [
        "# Pandas correlation coefficient\n",
        "import pandas as pd\n",
        "x = pd.Series(range(10, 20))\n",
        "y = pd.Series([2, 1, 4, 5, 8, 12, 18, 25, 96, 48])\n",
        "print(x.corr(y))                    # Pearson's r\n",
        "print(y.corr(x))\n",
        "\n",
        "print(x.corr(y, method='spearman'))  # Spearman's rho\n",
        "\n",
        "print(x.corr(y, method='kendall'))   # Kendall's tau\n",
        "\n"
      ],
      "execution_count": 5,
      "outputs": [
        {
          "output_type": "stream",
          "text": [
            "0.7586402890911867\n",
            "0.7586402890911869\n",
            "0.9757575757575757\n",
            "0.911111111111111\n"
          ],
          "name": "stdout"
        }
      ]
    },
    {
      "cell_type": "markdown",
      "metadata": {
        "id": "3HWlIsw2vNTG"
      },
      "source": [
        "## Linear Regression"
      ]
    },
    {
      "cell_type": "markdown",
      "metadata": {
        "id": "Nmk_jPyMvNTG"
      },
      "source": [
        "Linear regression is the most fundamental statistical relationship modeling algorithm. The algorithm builds a line model (often called a trendline), which allows to not only explain linear regression between some variable in the dataset X and other variable Y, but also predict unseen Y values given X!"
      ]
    },
    {
      "cell_type": "markdown",
      "metadata": {
        "id": "j5aM58znvNTG"
      },
      "source": [
        "Start by watching the intro to linear regression down below:"
      ]
    },
    {
      "cell_type": "code",
      "metadata": {
        "id": "luEoxLx2vNTG",
        "outputId": "84861f5d-21a4-4167-aa17-3693787881ad"
      },
      "source": [
        "from IPython.display import YouTubeVideo\n",
        "YouTubeVideo('PaFPbb66DxQ')"
      ],
      "execution_count": null,
      "outputs": [
        {
          "output_type": "execute_result",
          "data": {
            "image/jpeg": "[encoded data removed]",
            "text/html": [
              "\n",
              "        <iframe\n",
              "            width=\"400\"\n",
              "            height=\"300\"\n",
              "            src=\"https://www.youtube.com/embed/PaFPbb66DxQ\"\n",
              "            frameborder=\"0\"\n",
              "            allowfullscreen\n",
              "        ></iframe>\n",
              "        "
            ],
            "text/plain": [
              "<IPython.lib.display.YouTubeVideo at 0x7f98cd6182d0>"
            ]
          },
          "metadata": {
            "tags": []
          },
          "execution_count": 1
        }
      ]
    },
    {
      "cell_type": "markdown",
      "metadata": {
        "id": "t9XxBpV2vNTH"
      },
      "source": [
        "After watching the video above, enroll at [Intro to Machine Learning](https://www.udacity.com/course/intro-to-machine-learning--ud120) (on Udacity) free course. Next, watch a module on linear regression and complete all the quizes, starting from [Lesson 10](https://classroom.udacity.com/courses/ud120/lessons/2301748537/concepts/24828185350923) to the very end of the module. Although you might hear unfamiliar terms e.g. supervised learning, don't think about them just now."
      ]
    },
    {
      "cell_type": "markdown",
      "metadata": {
        "id": "E6gCJ-icvNTI"
      },
      "source": [
        "By the end of this section, you should know what linear regression is used for, and how to perform it using Scikit-learn."
      ]
    },
    {
      "cell_type": "markdown",
      "metadata": {
        "id": "VROv_WfrvNTI"
      },
      "source": [
        "### Key takeaways:"
      ]
    },
    {
      "cell_type": "markdown",
      "metadata": {
        "id": "if6CLDTlvNTI"
      },
      "source": [
        "* We use linear regression as a tool to model a trendline (like in Excel).\n",
        "* Regression line explains the numerical relationship between X variable (independent) and Y (dependent).\n",
        "* Relationship is a weighted sum of X effect on Y. Weight describes how much Y changes when we change X by 1.\n",
        "* X can be multiple variables, each with its weight."
      ]
    },
    {
      "cell_type": "markdown",
      "metadata": {
        "id": "aErrSuHnvNTI"
      },
      "source": [
        "## Exercise"
      ]
    },
    {
      "cell_type": "markdown",
      "metadata": {
        "id": "MTgSFtLfvNTJ"
      },
      "source": [
        "### Predicting Bicycle Traffic"
      ]
    },
    {
      "cell_type": "markdown",
      "metadata": {
        "id": "GvS-MJPWvNTJ"
      },
      "source": [
        "<div><img src=\"https://upload.wikimedia.org/wikipedia/commons/thumb/4/41/Left_side_of_Flying_Pigeon.jpg/2560px-Left_side_of_Flying_Pigeon.jpg\" style=\"height: 350px;\"/></div>"
      ]
    },
    {
      "cell_type": "markdown",
      "metadata": {
        "id": "kip9lPTJvNTJ"
      },
      "source": [
        "We'll follow an example from [Data Science Handbook](https://jakevdp.github.io/PythonDataScienceHandbook/05.06-linear-regression.html#Example:-Predicting-Bicycle-Traffic).\n",
        "\n",
        "Complete the task yourself and verify afterwards. Don't look at the Jake's solution until you have your own (unless you get stuck), there's no fun in that :)."
      ]
    },
    {
      "cell_type": "markdown",
      "metadata": {
        "id": "s2rUDuzYvNTJ"
      },
      "source": [
        "Objective:\n",
        "\n",
        "* Predict bike traffic for each day;\n",
        "* Explain which features affect the number of cyclists most;\n",
        "\n",
        "Tips:\n",
        "* Use weather dataset for feature engineering.\n",
        "* Engineer additional features such as: weeekday, daylight_hrs, is_holiday, temp_celcius, is_dry_day, explain why."
      ]
    },
    {
      "cell_type": "markdown",
      "metadata": {
        "id": "CF6YNOH4vNTJ"
      },
      "source": [
        "To make things slightly easier, we've downloaded daily bicycle traffic, the daily weather data in Seattle and holiday data, and joined everything."
      ]
    },
    {
      "cell_type": "markdown",
      "metadata": {
        "id": "72gq0UCbvNTJ"
      },
      "source": [
        "In case the weather dataset column names seem confusing, check-out [this resource](https://www.ncdc.noaa.gov/cdo-web/datasets/GHCND/stations/GHCND:USW00024233/detail), which contains detailed descriptions of each column of the weather dataset."
      ]
    },
    {
      "cell_type": "code",
      "metadata": {
        "id": "hvsBgs9rvNTJ"
      },
      "source": [
        "import pandas as pd\n",
        "from pandas.tseries.holiday import USFederalHolidayCalendar\n",
        "\n",
        "counts = pd.read_csv('https://data.seattle.gov/api/views/65db-xm6k/rows.csv', index_col='Date', parse_dates=True)\n",
        "weather = pd.read_csv('https://raw.githubusercontent.com/jakevdp/PythonDataScienceHandbook/master/notebooks/data/BicycleWeather.csv',  index_col='DATE', parse_dates=True)\n",
        "\n",
        "daily = counts.resample(\"d\").sum()\n",
        "\n",
        "cal = USFederalHolidayCalendar()\n",
        "holidays = cal.holidays('2012', '2016')\n",
        "daily = daily.join(pd.Series(1, index=holidays, name='holiday'))\n",
        "daily['holiday'].fillna(0, inplace=True)"
      ],
      "execution_count": null,
      "outputs": []
    },
    {
      "cell_type": "markdown",
      "metadata": {
        "id": "FST3pOhPvNTK"
      },
      "source": [
        "Tip - peek into the data. Engineer enough features for `weather` dataframe you might deem useful to predict bicycle traffic. Afterwards, join the datasets and perform regression."
      ]
    },
    {
      "cell_type": "markdown",
      "metadata": {
        "id": "mXtd7m6DvNTK"
      },
      "source": [
        "-----"
      ]
    },
    {
      "cell_type": "markdown",
      "metadata": {
        "id": "BSvXB_k4vNTK"
      },
      "source": [
        "## Summary\n",
        "\n",
        "In this subproject, we have studied the most popular data modeling approach - linear regression. Linear models hardly overfit, and they are interpretable, thus often preferred as baselines when modeling the data."
      ]
    },
    {
      "cell_type": "code",
      "metadata": {
        "id": "ymPCWtfJvNTK"
      },
      "source": [
        ""
      ],
      "execution_count": null,
      "outputs": []
    }
  ]
}