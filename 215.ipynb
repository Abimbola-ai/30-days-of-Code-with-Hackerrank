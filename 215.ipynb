{
  "nbformat": 4,
  "nbformat_minor": 0,
  "metadata": {
    "kernelspec": {
      "display_name": "Python 3",
      "language": "python",
      "name": "python3"
    },
    "language_info": {
      "codemirror_mode": {
        "name": "ipython",
        "version": 3
      },
      "file_extension": ".py",
      "mimetype": "text/x-python",
      "name": "python",
      "nbconvert_exporter": "python",
      "pygments_lexer": "ipython3",
      "version": "3.7.6"
    },
    "colab": {
      "name": "215.ipynb",
      "provenance": []
    }
  },
  "cells": [
    {
      "cell_type": "markdown",
      "metadata": {
        "id": "2Seype3c-Uqs"
      },
      "source": [
        "# Module 2: Data Engineering\n",
        "## Sprint 1: Software Engineering and Reproducible Research\n",
        "## OOP based Calculator"
      ]
    },
    {
      "cell_type": "markdown",
      "metadata": {
        "id": "gD60vc4P-Uqw"
      },
      "source": [
        "## Background\n",
        "Congrats! You completed almost all assignments and tasks of this week. You did a great job. In this lesson, you will need to prove all the skills that you learned. As the final assignment of this week, you will have to create your own Python package. You will have to use all the learned OOP and \"Clean Code\" concepts and apply them to practice."
      ]
    },
    {
      "cell_type": "markdown",
      "metadata": {
        "id": "zpYpO2do-Uqx"
      },
      "source": [
        "---"
      ]
    },
    {
      "cell_type": "markdown",
      "metadata": {
        "id": "vPMu2dir-Uqy"
      },
      "source": [
        "## The calculator\n",
        "You will need to create a Python module and later transform it into a package. This module will be a calculator. What you should do at first is initialize new Python package structure and create a new file that will be used as a module."
      ]
    },
    {
      "cell_type": "markdown",
      "metadata": {
        "id": "Bgn2Hvmy-Uqy"
      },
      "source": [
        "## Writing tests and documentation\n",
        "You should also write tests that ensure that the basic functionality of the class is covered. Make sure that math operations returns expected results. Document your calculator class using docstrings. Add explanation of the package to README file. Try to be as verbose as possible: include instruction on how to install the package, how to use specific methods.  "
      ]
    },
    {
      "cell_type": "markdown",
      "metadata": {
        "id": "cVZfY79P-Uqz"
      },
      "source": [
        "---"
      ]
    },
    {
      "cell_type": "markdown",
      "metadata": {
        "id": "sIAtCLFE-Uqz"
      },
      "source": [
        "## Concepts to explore\n",
        "* Writing clean OOP based Python code and testing it\n",
        "* Creation your own Python package\n",
        "* Understanding and applying required software licenses\n",
        "* Dealing with python environments\n",
        "* Creating and manipulate Docker container"
      ]
    },
    {
      "cell_type": "markdown",
      "metadata": {
        "id": "KBbsqha--Uqz"
      },
      "source": [
        "## Requirements\n",
        "The main package file should contain a class `Calculator` that should be able to perform these actions:  \n",
        "- Addition / Subtraction\n",
        "- Multiplication / Division\n",
        "- Take (n) root of number\n",
        "- Reset memory (**Calculator must have its own memory, meaning it should manipulate its starting number `0` until it is reset.**). This means that for example `calculator` should perform actions with a value inside its memory (for this example value inside the calculator's memory is `0`): `calculator.add(2)` results in `2`."
      ]
    },
    {
      "cell_type": "markdown",
      "metadata": {
        "id": "Yw3s7GB7-Uqz"
      },
      "source": [
        "Present your newly created Python package:\n",
        "* Make a short introduction to the repository of the package\n",
        "* Install the package into the Google Collab's env using `pip`\n",
        "* Showcase functionality of the created package\n",
        "* If bonus challenge is completed - explain how the `Dockerfile` is structured and what is its functionality"
      ]
    },
    {
      "cell_type": "markdown",
      "metadata": {
        "id": "o9S8TDRA-Uq0"
      },
      "source": [
        "## Evaluation criteria\n",
        "1. Correct Python Package structure is initialized\n",
        "2. Calculator module is created\n",
        "3. Calculator class performs required actions\n",
        "4. Tests are written\n",
        "5. Code is written with PEP8 standards in mind\n",
        "6. Code is well-documented\n",
        "7. Project has informative README file\n",
        "8. Package is installable through `pip`"
      ]
    },
    {
      "cell_type": "markdown",
      "metadata": {
        "id": "uIEWNgQH-Uq0"
      },
      "source": [
        "## Bonus challenge\n",
        "Add Dockerfile to the repository that is able to run your module. Python `3.8` environment is initialized and the package is installed when creating Docker container from the image."
      ]
    },
    {
      "cell_type": "markdown",
      "metadata": {
        "id": "pbAuiX12-Uq0"
      },
      "source": [
        "\n",
        "## Sample correction questions\n",
        "\n",
        "During a correction, you may get asked questions that test your understanding of covered topics.\n",
        "\n",
        "- What is Object-Oriented Programming? Select and explain two examples where using OOP concepts can improve quality and usability of code.\n",
        "- What is \"Clean Code\"? Select four main key concepts and explain them using real world examples.\n",
        "- Why do we need to document code? How can you do it? What should be provided inside the documentation?\n",
        "- Explain containerization. Why would you want to use one? What are the main differences between virtualization and containerization?"
      ]
    },
    {
      "cell_type": "code",
      "metadata": {
        "colab": {
          "base_uri": "https://localhost:8080/"
        },
        "id": "eBAuzpDsb7ou",
        "outputId": "eb947801-4407-4d9e-8e04-0d38c55b2654"
      },
      "source": [
        "pip install git+https://github.com/Abimbola-ai/simple-calculator.git"
      ],
      "execution_count": 15,
      "outputs": [
        {
          "output_type": "stream",
          "text": [
            "Collecting git+https://github.com/Abimbola-ai/simple-calculator.git\n",
            "  Cloning https://github.com/Abimbola-ai/simple-calculator.git to /tmp/pip-req-build-qnrjb9rk\n",
            "  Running command git clone -q https://github.com/Abimbola-ai/simple-calculator.git /tmp/pip-req-build-qnrjb9rk\n",
            "Requirement already satisfied (use --upgrade to upgrade): Calculator==0.1 from git+https://github.com/Abimbola-ai/simple-calculator.git in /usr/local/lib/python3.7/dist-packages\n",
            "Requirement already satisfied: pytest in /usr/local/lib/python3.7/dist-packages (from Calculator==0.1) (3.6.4)\n",
            "Requirement already satisfied: more-itertools>=4.0.0 in /usr/local/lib/python3.7/dist-packages (from pytest->Calculator==0.1) (8.8.0)\n",
            "Requirement already satisfied: six>=1.10.0 in /usr/local/lib/python3.7/dist-packages (from pytest->Calculator==0.1) (1.15.0)\n",
            "Requirement already satisfied: attrs>=17.4.0 in /usr/local/lib/python3.7/dist-packages (from pytest->Calculator==0.1) (21.2.0)\n",
            "Requirement already satisfied: py>=1.5.0 in /usr/local/lib/python3.7/dist-packages (from pytest->Calculator==0.1) (1.10.0)\n",
            "Requirement already satisfied: setuptools in /usr/local/lib/python3.7/dist-packages (from pytest->Calculator==0.1) (57.0.0)\n",
            "Requirement already satisfied: pluggy<0.8,>=0.5 in /usr/local/lib/python3.7/dist-packages (from pytest->Calculator==0.1) (0.7.1)\n",
            "Requirement already satisfied: atomicwrites>=1.0 in /usr/local/lib/python3.7/dist-packages (from pytest->Calculator==0.1) (1.4.0)\n",
            "Building wheels for collected packages: Calculator\n",
            "  Building wheel for Calculator (setup.py) ... \u001b[?25l\u001b[?25hdone\n",
            "  Created wheel for Calculator: filename=Calculator-0.1-cp37-none-any.whl size=2942 sha256=b12b4b2b18fd24148b9933e2a442019c042243ffb5e6ef447963a6f8e70feb41\n",
            "  Stored in directory: /tmp/pip-ephem-wheel-cache-m62ku069/wheels/1c/6f/43/d7d792bcb5cd98fd4a98cb8663910bd23f6a23c345ffbd1a67\n",
            "Successfully built Calculator\n"
          ],
          "name": "stdout"
        }
      ]
    },
    {
      "cell_type": "code",
      "metadata": {
        "id": "gbGZiJyawILY",
        "outputId": "c7179e63-1712-4199-8099-c1def4973b28",
        "colab": {
          "base_uri": "https://localhost:8080/",
          "height": 681
        }
      },
      "source": [
        "from calculator import calc\n",
        "current_value = 0\n",
        "memory = current_value\n",
        "current_value_list = [current_value]\n",
        "calculator = calc.Calculator()\n",
        "calculator.main(current_value, memory, current_value_list)\n",
        "   \n",
        "operations = {\n",
        "        \"1\": calculator.add,\n",
        "        \"2\": calculator.subtract,\n",
        "        \"3\": calculator.multiply,\n",
        "        \"4\": calculator.divide,\n",
        "        \"5\": calculator.nroot\n",
        "    }\n",
        "while True:\n",
        "  print(\"Select an operation to perform\")\n",
        "  for choice, operation in sorted(operations.items()):\n",
        "    print(f\"{choice}: {operation.__name__}\")\n",
        "  operation = input(\"What operation? \")\n",
        "  if operation not in operations:\n",
        "    print(\"Sorry, that's not a valid choice.\")\n",
        "    continue\n",
        "\n",
        "\n",
        "  x = float(input(\"Enter next value: \"))\n",
        "\n",
        "  try:\n",
        "    current_value = operations[operation](x, current_value, current_value_list)\n",
        "    print(\"The result is: {}\\n\".format(current_value))\n",
        "  except CalculatorError as error:\n",
        "    print(error)"
      ],
      "execution_count": 16,
      "outputs": [
        {
          "output_type": "stream",
          "text": [
            "Welcome to the calculator program\n",
            "Press Ctrl+C to quit\n",
            "Current value: 0\n",
            "Select an operation to perform\n",
            "1: add\n",
            "2: subtract\n",
            "3: multiply\n",
            "4: divide\n",
            "5: nroot\n"
          ],
          "name": "stdout"
        },
        {
          "output_type": "error",
          "ename": "KeyboardInterrupt",
          "evalue": "ignored",
          "traceback": [
            "\u001b[0;31m---------------------------------------------------------------------------\u001b[0m",
            "\u001b[0;31mKeyboardInterrupt\u001b[0m                         Traceback (most recent call last)",
            "\u001b[0;32m/usr/local/lib/python3.7/dist-packages/ipykernel/kernelbase.py\u001b[0m in \u001b[0;36m_input_request\u001b[0;34m(self, prompt, ident, parent, password)\u001b[0m\n\u001b[1;32m    728\u001b[0m             \u001b[0;32mtry\u001b[0m\u001b[0;34m:\u001b[0m\u001b[0;34m\u001b[0m\u001b[0;34m\u001b[0m\u001b[0m\n\u001b[0;32m--> 729\u001b[0;31m                 \u001b[0mident\u001b[0m\u001b[0;34m,\u001b[0m \u001b[0mreply\u001b[0m \u001b[0;34m=\u001b[0m \u001b[0mself\u001b[0m\u001b[0;34m.\u001b[0m\u001b[0msession\u001b[0m\u001b[0;34m.\u001b[0m\u001b[0mrecv\u001b[0m\u001b[0;34m(\u001b[0m\u001b[0mself\u001b[0m\u001b[0;34m.\u001b[0m\u001b[0mstdin_socket\u001b[0m\u001b[0;34m,\u001b[0m \u001b[0;36m0\u001b[0m\u001b[0;34m)\u001b[0m\u001b[0;34m\u001b[0m\u001b[0;34m\u001b[0m\u001b[0m\n\u001b[0m\u001b[1;32m    730\u001b[0m             \u001b[0;32mexcept\u001b[0m \u001b[0mException\u001b[0m\u001b[0;34m:\u001b[0m\u001b[0;34m\u001b[0m\u001b[0;34m\u001b[0m\u001b[0m\n",
            "\u001b[0;32m/usr/local/lib/python3.7/dist-packages/jupyter_client/session.py\u001b[0m in \u001b[0;36mrecv\u001b[0;34m(self, socket, mode, content, copy)\u001b[0m\n\u001b[1;32m    802\u001b[0m         \u001b[0;32mtry\u001b[0m\u001b[0;34m:\u001b[0m\u001b[0;34m\u001b[0m\u001b[0;34m\u001b[0m\u001b[0m\n\u001b[0;32m--> 803\u001b[0;31m             \u001b[0mmsg_list\u001b[0m \u001b[0;34m=\u001b[0m \u001b[0msocket\u001b[0m\u001b[0;34m.\u001b[0m\u001b[0mrecv_multipart\u001b[0m\u001b[0;34m(\u001b[0m\u001b[0mmode\u001b[0m\u001b[0;34m,\u001b[0m \u001b[0mcopy\u001b[0m\u001b[0;34m=\u001b[0m\u001b[0mcopy\u001b[0m\u001b[0;34m)\u001b[0m\u001b[0;34m\u001b[0m\u001b[0;34m\u001b[0m\u001b[0m\n\u001b[0m\u001b[1;32m    804\u001b[0m         \u001b[0;32mexcept\u001b[0m \u001b[0mzmq\u001b[0m\u001b[0;34m.\u001b[0m\u001b[0mZMQError\u001b[0m \u001b[0;32mas\u001b[0m \u001b[0me\u001b[0m\u001b[0;34m:\u001b[0m\u001b[0;34m\u001b[0m\u001b[0;34m\u001b[0m\u001b[0m\n",
            "\u001b[0;32m/usr/local/lib/python3.7/dist-packages/zmq/sugar/socket.py\u001b[0m in \u001b[0;36mrecv_multipart\u001b[0;34m(self, flags, copy, track)\u001b[0m\n\u001b[1;32m    582\u001b[0m         \"\"\"\n\u001b[0;32m--> 583\u001b[0;31m         \u001b[0mparts\u001b[0m \u001b[0;34m=\u001b[0m \u001b[0;34m[\u001b[0m\u001b[0mself\u001b[0m\u001b[0;34m.\u001b[0m\u001b[0mrecv\u001b[0m\u001b[0;34m(\u001b[0m\u001b[0mflags\u001b[0m\u001b[0;34m,\u001b[0m \u001b[0mcopy\u001b[0m\u001b[0;34m=\u001b[0m\u001b[0mcopy\u001b[0m\u001b[0;34m,\u001b[0m \u001b[0mtrack\u001b[0m\u001b[0;34m=\u001b[0m\u001b[0mtrack\u001b[0m\u001b[0;34m)\u001b[0m\u001b[0;34m]\u001b[0m\u001b[0;34m\u001b[0m\u001b[0;34m\u001b[0m\u001b[0m\n\u001b[0m\u001b[1;32m    584\u001b[0m         \u001b[0;31m# have first part already, only loop while more to receive\u001b[0m\u001b[0;34m\u001b[0m\u001b[0;34m\u001b[0m\u001b[0;34m\u001b[0m\u001b[0m\n",
            "\u001b[0;32mzmq/backend/cython/socket.pyx\u001b[0m in \u001b[0;36mzmq.backend.cython.socket.Socket.recv\u001b[0;34m()\u001b[0m\n",
            "\u001b[0;32mzmq/backend/cython/socket.pyx\u001b[0m in \u001b[0;36mzmq.backend.cython.socket.Socket.recv\u001b[0;34m()\u001b[0m\n",
            "\u001b[0;32mzmq/backend/cython/socket.pyx\u001b[0m in \u001b[0;36mzmq.backend.cython.socket._recv_copy\u001b[0;34m()\u001b[0m\n",
            "\u001b[0;32m/usr/local/lib/python3.7/dist-packages/zmq/backend/cython/checkrc.pxd\u001b[0m in \u001b[0;36mzmq.backend.cython.checkrc._check_rc\u001b[0;34m()\u001b[0m\n",
            "\u001b[0;31mKeyboardInterrupt\u001b[0m: ",
            "\nDuring handling of the above exception, another exception occurred:\n",
            "\u001b[0;31mKeyboardInterrupt\u001b[0m                         Traceback (most recent call last)",
            "\u001b[0;32m<ipython-input-16-b7b65a097752>\u001b[0m in \u001b[0;36m<module>\u001b[0;34m()\u001b[0m\n\u001b[1;32m     17\u001b[0m   \u001b[0;32mfor\u001b[0m \u001b[0mchoice\u001b[0m\u001b[0;34m,\u001b[0m \u001b[0moperation\u001b[0m \u001b[0;32min\u001b[0m \u001b[0msorted\u001b[0m\u001b[0;34m(\u001b[0m\u001b[0moperations\u001b[0m\u001b[0;34m.\u001b[0m\u001b[0mitems\u001b[0m\u001b[0;34m(\u001b[0m\u001b[0;34m)\u001b[0m\u001b[0;34m)\u001b[0m\u001b[0;34m:\u001b[0m\u001b[0;34m\u001b[0m\u001b[0;34m\u001b[0m\u001b[0m\n\u001b[1;32m     18\u001b[0m     \u001b[0mprint\u001b[0m\u001b[0;34m(\u001b[0m\u001b[0;34mf\"{choice}: {operation.__name__}\"\u001b[0m\u001b[0;34m)\u001b[0m\u001b[0;34m\u001b[0m\u001b[0;34m\u001b[0m\u001b[0m\n\u001b[0;32m---> 19\u001b[0;31m   \u001b[0moperation\u001b[0m \u001b[0;34m=\u001b[0m \u001b[0minput\u001b[0m\u001b[0;34m(\u001b[0m\u001b[0;34m\"What operation? \"\u001b[0m\u001b[0;34m)\u001b[0m\u001b[0;34m\u001b[0m\u001b[0;34m\u001b[0m\u001b[0m\n\u001b[0m\u001b[1;32m     20\u001b[0m   \u001b[0;32mif\u001b[0m \u001b[0moperation\u001b[0m \u001b[0;32mnot\u001b[0m \u001b[0;32min\u001b[0m \u001b[0moperations\u001b[0m\u001b[0;34m:\u001b[0m\u001b[0;34m\u001b[0m\u001b[0;34m\u001b[0m\u001b[0m\n\u001b[1;32m     21\u001b[0m     \u001b[0mprint\u001b[0m\u001b[0;34m(\u001b[0m\u001b[0;34m\"Sorry, that's not a valid choice.\"\u001b[0m\u001b[0;34m)\u001b[0m\u001b[0;34m\u001b[0m\u001b[0;34m\u001b[0m\u001b[0m\n",
            "\u001b[0;32m/usr/local/lib/python3.7/dist-packages/ipykernel/kernelbase.py\u001b[0m in \u001b[0;36mraw_input\u001b[0;34m(self, prompt)\u001b[0m\n\u001b[1;32m    702\u001b[0m             \u001b[0mself\u001b[0m\u001b[0;34m.\u001b[0m\u001b[0m_parent_ident\u001b[0m\u001b[0;34m,\u001b[0m\u001b[0;34m\u001b[0m\u001b[0;34m\u001b[0m\u001b[0m\n\u001b[1;32m    703\u001b[0m             \u001b[0mself\u001b[0m\u001b[0;34m.\u001b[0m\u001b[0m_parent_header\u001b[0m\u001b[0;34m,\u001b[0m\u001b[0;34m\u001b[0m\u001b[0;34m\u001b[0m\u001b[0m\n\u001b[0;32m--> 704\u001b[0;31m             \u001b[0mpassword\u001b[0m\u001b[0;34m=\u001b[0m\u001b[0;32mFalse\u001b[0m\u001b[0;34m,\u001b[0m\u001b[0;34m\u001b[0m\u001b[0;34m\u001b[0m\u001b[0m\n\u001b[0m\u001b[1;32m    705\u001b[0m         )\n\u001b[1;32m    706\u001b[0m \u001b[0;34m\u001b[0m\u001b[0m\n",
            "\u001b[0;32m/usr/local/lib/python3.7/dist-packages/ipykernel/kernelbase.py\u001b[0m in \u001b[0;36m_input_request\u001b[0;34m(self, prompt, ident, parent, password)\u001b[0m\n\u001b[1;32m    732\u001b[0m             \u001b[0;32mexcept\u001b[0m \u001b[0mKeyboardInterrupt\u001b[0m\u001b[0;34m:\u001b[0m\u001b[0;34m\u001b[0m\u001b[0;34m\u001b[0m\u001b[0m\n\u001b[1;32m    733\u001b[0m                 \u001b[0;31m# re-raise KeyboardInterrupt, to truncate traceback\u001b[0m\u001b[0;34m\u001b[0m\u001b[0;34m\u001b[0m\u001b[0;34m\u001b[0m\u001b[0m\n\u001b[0;32m--> 734\u001b[0;31m                 \u001b[0;32mraise\u001b[0m \u001b[0mKeyboardInterrupt\u001b[0m\u001b[0;34m\u001b[0m\u001b[0;34m\u001b[0m\u001b[0m\n\u001b[0m\u001b[1;32m    735\u001b[0m             \u001b[0;32melse\u001b[0m\u001b[0;34m:\u001b[0m\u001b[0;34m\u001b[0m\u001b[0;34m\u001b[0m\u001b[0m\n\u001b[1;32m    736\u001b[0m                 \u001b[0;32mbreak\u001b[0m\u001b[0;34m\u001b[0m\u001b[0;34m\u001b[0m\u001b[0m\n",
            "\u001b[0;31mKeyboardInterrupt\u001b[0m: "
          ]
        }
      ]
    }
  ]
}